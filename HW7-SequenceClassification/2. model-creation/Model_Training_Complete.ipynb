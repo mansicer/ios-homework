{
 "cells": [
  {
   "cell_type": "markdown",
   "metadata": {},
   "source": [
    "# Training an activity classifier\n",
    "\n",
    "This notebook was used to train the activity classification model **GestureClassifier.mlmodel** supplied with the book Machine Learning by Tutorials."
   ]
  },
  {
   "cell_type": "code",
   "execution_count": 1,
   "metadata": {},
   "outputs": [
    {
     "data": {
      "text/plain": [
       "'\\n/// Copyright (c) 2018 Razeware LLC\\n/// \\n/// Permission is hereby granted, free of charge, to any person obtaining a copy\\n/// of this software and associated documentation files (the \"Software\"), to deal\\n/// in the Software without restriction, including without limitation the rights\\n/// to use, copy, modify, merge, publish, distribute, sublicense, and/or sell\\n/// copies of the Software, and to permit persons to whom the Software is\\n/// furnished to do so, subject to the following conditions:\\n/// \\n/// The above copyright notice and this permission notice shall be included in\\n/// all copies or substantial portions of the Software.\\n/// \\n/// Notwithstanding the foregoing, you may not use, copy, modify, merge, publish,\\n/// distribute, sublicense, create a derivative work, and/or sell copies of the\\n/// Software in any work that is designed, intended, or marketed for pedagogical or\\n/// instructional purposes related to programming, coding, application development,\\n/// or information technology.  Permission for such use, copying, modification,\\n/// merger, publication, distribution, sublicensing, creation of derivative works,\\n/// or sale is expressly withheld.\\n/// \\n/// THE SOFTWARE IS PROVIDED \"AS IS\", WITHOUT WARRANTY OF ANY KIND, EXPRESS OR\\n/// IMPLIED, INCLUDING BUT NOT LIMITED TO THE WARRANTIES OF MERCHANTABILITY,\\n/// FITNESS FOR A PARTICULAR PURPOSE AND NONINFRINGEMENT. IN NO EVENT SHALL THE\\n/// AUTHORS OR COPYRIGHT HOLDERS BE LIABLE FOR ANY CLAIM, DAMAGES OR OTHER\\n/// LIABILITY, WHETHER IN AN ACTION OF CONTRACT, TORT OR OTHERWISE, ARISING FROM,\\n/// OUT OF OR IN CONNECTION WITH THE SOFTWARE OR THE USE OR OTHER DEALINGS IN\\n/// THE SOFTWARE.\\n'"
      ]
     },
     "execution_count": 1,
     "metadata": {},
     "output_type": "execute_result"
    }
   ],
   "source": [
    "'''\n",
    "/// Copyright (c) 2018 Razeware LLC\n",
    "/// \n",
    "/// Permission is hereby granted, free of charge, to any person obtaining a copy\n",
    "/// of this software and associated documentation files (the \"Software\"), to deal\n",
    "/// in the Software without restriction, including without limitation the rights\n",
    "/// to use, copy, modify, merge, publish, distribute, sublicense, and/or sell\n",
    "/// copies of the Software, and to permit persons to whom the Software is\n",
    "/// furnished to do so, subject to the following conditions:\n",
    "/// \n",
    "/// The above copyright notice and this permission notice shall be included in\n",
    "/// all copies or substantial portions of the Software.\n",
    "/// \n",
    "/// Notwithstanding the foregoing, you may not use, copy, modify, merge, publish,\n",
    "/// distribute, sublicense, create a derivative work, and/or sell copies of the\n",
    "/// Software in any work that is designed, intended, or marketed for pedagogical or\n",
    "/// instructional purposes related to programming, coding, application development,\n",
    "/// or information technology.  Permission for such use, copying, modification,\n",
    "/// merger, publication, distribution, sublicensing, creation of derivative works,\n",
    "/// or sale is expressly withheld.\n",
    "/// \n",
    "/// THE SOFTWARE IS PROVIDED \"AS IS\", WITHOUT WARRANTY OF ANY KIND, EXPRESS OR\n",
    "/// IMPLIED, INCLUDING BUT NOT LIMITED TO THE WARRANTIES OF MERCHANTABILITY,\n",
    "/// FITNESS FOR A PARTICULAR PURPOSE AND NONINFRINGEMENT. IN NO EVENT SHALL THE\n",
    "/// AUTHORS OR COPYRIGHT HOLDERS BE LIABLE FOR ANY CLAIM, DAMAGES OR OTHER\n",
    "/// LIABILITY, WHETHER IN AN ACTION OF CONTRACT, TORT OR OTHERWISE, ARISING FROM,\n",
    "/// OUT OF OR IN CONNECTION WITH THE SOFTWARE OR THE USE OR OTHER DEALINGS IN\n",
    "/// THE SOFTWARE.\n",
    "'''"
   ]
  },
  {
   "cell_type": "code",
   "execution_count": 1,
   "metadata": {},
   "outputs": [],
   "source": [
    "import turicreate as tc\n",
    "import activity_detector_utils as utils"
   ]
  },
  {
   "cell_type": "markdown",
   "metadata": {},
   "source": [
    "# Load clean datasets"
   ]
  },
  {
   "cell_type": "code",
   "execution_count": 2,
   "metadata": {},
   "outputs": [],
   "source": [
    "train_sf = tc.SFrame(\"data/cleaned_train_sframe\")\n",
    "valid_sf = tc.SFrame(\"data/cleaned_valid_sframe\")\n",
    "test_sf = tc.SFrame(\"data/cleaned_test_sframe\")"
   ]
  },
  {
   "cell_type": "markdown",
   "metadata": {},
   "source": [
    "### Optional: Split a validation set from your training set\n",
    "\n",
    "This step is **not** necessary because we already have a separate validation set. This project does not use the results of the following cell, but it's here as an example to show you how to do it *if* you ever want to in your own projects."
   ]
  },
  {
   "cell_type": "code",
   "execution_count": 3,
   "metadata": {},
   "outputs": [],
   "source": [
    "train, valid = tc.activity_classifier.util.random_split_by_session(train_sf, session_id='sessionId', fraction=0.9)"
   ]
  },
  {
   "cell_type": "code",
   "execution_count": 4,
   "metadata": {},
   "outputs": [
    {
     "name": "stdout",
     "output_type": "stream",
     "text": [
      "+----------+--------+-------+\n",
      "| activity | userId | Count |\n",
      "+----------+--------+-------+\n",
      "| chop_it  |  u_01  |   33  |\n",
      "| chop_it  |  u_02  |   32  |\n",
      "| drive_it |  u_01  |   30  |\n",
      "| drive_it |  u_02  |   32  |\n",
      "| rest_it  |  u_01  |   97  |\n",
      "| rest_it  |  u_02  |   94  |\n",
      "| shake_it |  u_01  |   34  |\n",
      "| shake_it |  u_02  |   30  |\n",
      "+----------+--------+-------+\n",
      "[8 rows x 3 columns]\n",
      "\n",
      "+----------+--------+-------+\n",
      "| activity | userId | Count |\n",
      "+----------+--------+-------+\n",
      "| chop_it  |  u_01  |   3   |\n",
      "| chop_it  |  u_02  |   4   |\n",
      "| drive_it |  u_01  |   6   |\n",
      "| drive_it |  u_02  |   4   |\n",
      "| rest_it  |  u_01  |   11  |\n",
      "| rest_it  |  u_02  |   14  |\n",
      "| shake_it |  u_01  |   2   |\n",
      "| shake_it |  u_02  |   6   |\n",
      "+----------+--------+-------+\n",
      "[8 rows x 3 columns]\n",
      "\n"
     ]
    }
   ],
   "source": [
    "utils.count_activities(train)\n",
    "utils.count_activities(valid)"
   ]
  },
  {
   "cell_type": "markdown",
   "metadata": {},
   "source": [
    "# Verify your model correctness by overfitting\n",
    "\n",
    "This step is to ensure the dataset and model are applicable to the problem, and the model is implemented properly. The following cell grabs a random 5% of the training data and trains an activity classifier model with it to ensure it learns successfully. You can see the training accuracy is quite high – at times 100% – which is a good indication that the model should be able to learn from your dataset."
   ]
  },
  {
   "cell_type": "code",
   "execution_count": 5,
   "metadata": {},
   "outputs": [
    {
     "name": "stdout",
     "output_type": "stream",
     "text": [
      "The dataset has less than the minimum of 100 sessions required for train-validation split. Continuing without validation set\n"
     ]
    },
    {
     "data": {
      "text/html": [
       "<pre>Pre-processing 15559 samples...</pre>"
      ],
      "text/plain": [
       "Pre-processing 15559 samples..."
      ]
     },
     "metadata": {},
     "output_type": "display_data"
    },
    {
     "data": {
      "text/html": [
       "<pre>Using sequences of size 400 for model creation.</pre>"
      ],
      "text/plain": [
       "Using sequences of size 400 for model creation."
      ]
     },
     "metadata": {},
     "output_type": "display_data"
    },
    {
     "data": {
      "text/html": [
       "<pre>Processed a total of 15 sessions.</pre>"
      ],
      "text/plain": [
       "Processed a total of 15 sessions."
      ]
     },
     "metadata": {},
     "output_type": "display_data"
    },
    {
     "name": "stdout",
     "output_type": "stream",
     "text": [
      "Using GPU to create model (AMD Radeon Pro 5300M)\n",
      "+----------------+----------------+----------------+----------------+\n",
      "| Iteration      | Train Accuracy | Train Loss     | Elapsed Time   |\n",
      "+----------------+----------------+----------------+----------------+\n",
      "| 1              | 0.261          | nan            | 6.9            |\n",
      "| 2              | 0.249          | nan            | 7.0            |\n",
      "| 3              | 0.249          | nan            | 7.0            |\n",
      "| 4              | 0.249          | nan            | 7.1            |\n",
      "| 5              | 0.249          | nan            | 7.1            |\n",
      "| 6              | 0.249          | nan            | 7.1            |\n",
      "| 7              | 0.249          | nan            | 7.2            |\n",
      "| 8              | 0.249          | nan            | 7.2            |\n",
      "| 9              | 0.249          | nan            | 7.3            |\n",
      "| 10             | 0.249          | nan            | 7.3            |\n",
      "| 11             | 0.249          | nan            | 7.4            |\n",
      "| 12             | 0.249          | nan            | 7.4            |\n",
      "| 13             | 0.249          | nan            | 7.5            |\n",
      "| 14             | 0.249          | nan            | 7.5            |\n",
      "| 15             | 0.249          | nan            | 7.5            |\n",
      "| 16             | 0.249          | nan            | 7.6            |\n",
      "| 17             | 0.249          | nan            | 7.6            |\n",
      "| 18             | 0.249          | nan            | 7.7            |\n",
      "| 19             | 0.249          | nan            | 7.7            |\n",
      "| 20             | 0.249          | nan            | 7.8            |\n",
      "| 21             | 0.249          | nan            | 7.8            |\n",
      "| 22             | 0.249          | nan            | 7.9            |\n",
      "| 23             | 0.249          | nan            | 7.9            |\n",
      "| 24             | 0.249          | nan            | 7.9            |\n",
      "| 25             | 0.249          | nan            | 8.0            |\n",
      "| 26             | 0.249          | nan            | 8.0            |\n",
      "| 27             | 0.249          | nan            | 8.1            |\n",
      "| 28             | 0.249          | nan            | 8.1            |\n",
      "| 29             | 0.249          | nan            | 8.2            |\n",
      "| 30             | 0.249          | nan            | 8.2            |\n",
      "| 31             | 0.249          | nan            | 8.2            |\n",
      "| 32             | 0.249          | nan            | 8.3            |\n",
      "| 33             | 0.249          | nan            | 8.3            |\n",
      "| 34             | 0.249          | nan            | 8.4            |\n",
      "| 35             | 0.249          | nan            | 8.4            |\n",
      "| 36             | 0.249          | nan            | 8.5            |\n",
      "| 37             | 0.249          | nan            | 8.5            |\n",
      "| 38             | 0.249          | nan            | 8.6            |\n",
      "| 39             | 0.249          | nan            | 8.6            |\n",
      "| 40             | 0.249          | nan            | 8.6            |\n",
      "| 41             | 0.249          | nan            | 8.7            |\n",
      "| 42             | 0.249          | nan            | 8.7            |\n",
      "| 43             | 0.249          | nan            | 8.8            |\n",
      "| 44             | 0.249          | nan            | 8.8            |\n",
      "| 45             | 0.249          | nan            | 8.9            |\n",
      "| 46             | 0.249          | nan            | 8.9            |\n",
      "| 47             | 0.249          | nan            | 8.9            |\n",
      "| 48             | 0.249          | nan            | 9.0            |\n",
      "| 49             | 0.249          | nan            | 9.0            |\n",
      "| 50             | 0.249          | nan            | 9.1            |\n",
      "+----------------+----------------+----------------+----------------+\n",
      "Training complete\n",
      "Total Time Spent: 9.07439s\n"
     ]
    },
    {
     "data": {
      "text/plain": [
       "Class                                    : ActivityClassifier\n",
       "\n",
       "Schema\n",
       "------\n",
       "Number of examples                       : 15559\n",
       "Number of sessions                       : 15\n",
       "Number of classes                        : 4\n",
       "Number of feature columns                : 6\n",
       "Prediction window                        : 20\n",
       "\n",
       "Training summary\n",
       "----------------\n",
       "Log-likelihood                           : nan\n",
       "Training time (sec)                      : 10.8287"
      ]
     },
     "execution_count": 5,
     "metadata": {},
     "output_type": "execute_result"
    }
   ],
   "source": [
    "tiny_train, _ = tc.activity_classifier.util.random_split_by_session(train_sf, session_id='sessionId', fraction=0.05)\n",
    "\n",
    "tc.activity_classifier.create(\n",
    "    dataset=tiny_train, session_id='sessionId', target='activity', \n",
    "    features=[\"rotX\", \"rotY\", \"rotZ\", \"accelX\", \"accelY\", \"accelZ\"],\n",
    "    prediction_window=20, max_iterations=50)"
   ]
  },
  {
   "cell_type": "markdown",
   "metadata": {},
   "source": [
    "# Train the model"
   ]
  },
  {
   "cell_type": "markdown",
   "metadata": {},
   "source": [
    "You'll get different results every time you run this training cell, because there's some randomness built into the training process. You may get slightly better or worse results, but they should be pretty close to these."
   ]
  },
  {
   "cell_type": "code",
   "execution_count": 6,
   "metadata": {
    "scrolled": false
   },
   "outputs": [
    {
     "data": {
      "text/html": [
       "<pre>Pre-processing 235057 samples...</pre>"
      ],
      "text/plain": [
       "Pre-processing 235057 samples..."
      ]
     },
     "metadata": {},
     "output_type": "display_data"
    },
    {
     "data": {
      "text/html": [
       "<pre>Using sequences of size 400 for model creation.</pre>"
      ],
      "text/plain": [
       "Using sequences of size 400 for model creation."
      ]
     },
     "metadata": {},
     "output_type": "display_data"
    },
    {
     "data": {
      "text/html": [
       "<pre>Processed a total of 216 sessions.</pre>"
      ],
      "text/plain": [
       "Processed a total of 216 sessions."
      ]
     },
     "metadata": {},
     "output_type": "display_data"
    },
    {
     "name": "stdout",
     "output_type": "stream",
     "text": [
      "Using GPU to create model (AMD Radeon Pro 5300M)\n",
      "+---------------------+---------------------+---------------------+---------------------+---------------------+---------------------+\n",
      "| Iteration           | Train Accuracy      | Train Loss          | Validation Accuracy | Validation Loss     | Elapsed Time        |\n",
      "+---------------------+---------------------+---------------------+---------------------+---------------------+---------------------+\n",
      "| 1                   | 0.574               | 0.953               | 0.730               | 0.978               | 0.4                 | \n",
      "| 2                   | 0.847               | 0.483               | 0.935               | 0.374               | 0.8                 | \n",
      "| 3                   | 0.915               | 0.328               | 0.957               | 0.162               | 1.2                 | \n",
      "| 4                   | 0.942               | 0.249               | 0.955               | 0.129               | 1.5                 | \n",
      "| 5                   | 0.954               | 0.197               | 0.962               | 0.116               | 1.9                 | \n",
      "| 6                   | 0.963               | 0.164               | 0.956               | 0.115               | 2.3                 | \n",
      "| 7                   | 0.966               | 0.142               | 0.962               | 0.108               | 2.6                 | \n",
      "| 8                   | 0.971               | 0.126               | 0.959               | 0.117               | 3.0                 | \n",
      "| 9                   | 0.972               | 0.112               | 0.960               | 0.113               | 3.4                 | \n",
      "| 10                  | 0.972               | 0.109               | 0.952               | 0.143               | 3.8                 | \n",
      "| 11                  | 0.977               | 0.096               | 0.961               | 0.115               | 4.3                 | \n",
      "| 12                  | 0.975               | 0.095               | 0.957               | 0.134               | 4.6                 | \n",
      "| 13                  | 0.977               | 0.084               | 0.964               | 0.116               | 5.1                 | \n",
      "| 14                  | 0.979               | 0.076               | 0.953               | 0.138               | 5.5                 | \n",
      "| 15                  | 0.980               | 0.072               | 0.952               | 0.169               | 5.9                 | \n",
      "| 16                  | 0.981               | 0.069               | 0.963               | 0.122               | 6.2                 | \n",
      "| 17                  | 0.981               | 0.068               | 0.937               | 0.177               | 6.6                 | \n",
      "| 18                  | 0.979               | 0.065               | 0.959               | 0.140               | 7.0                 | \n",
      "| 19                  | 0.980               | 0.066               | 0.948               | 0.167               | 7.4                 | \n",
      "| 20                  | 0.981               | 0.063               | 0.945               | 0.167               | 7.9                 | \n",
      "| 21                  | 0.982               | 0.064               | 0.950               | 0.163               | 8.3                 | \n",
      "| 22                  | 0.978               | 0.065               | 0.947               | 0.153               | 8.8                 | \n",
      "| 23                  | 0.983               | 0.058               | 0.954               | 0.152               | 9.2                 | \n",
      "| 24                  | 0.982               | 0.055               | 0.945               | 0.159               | 9.6                 | \n",
      "| 25                  | 0.987               | 0.047               | 0.950               | 0.165               | 10.1                | \n",
      "| 26                  | 0.987               | 0.043               | 0.949               | 0.157               | 10.5                | \n",
      "| 27                  | 0.986               | 0.045               | 0.960               | 0.152               | 10.9                | \n",
      "| 28                  | 0.985               | 0.047               | 0.956               | 0.146               | 11.3                | \n",
      "| 29                  | 0.986               | 0.044               | 0.955               | 0.153               | 11.6                | \n",
      "| 30                  | 0.989               | 0.034               | 0.938               | 0.199               | 12.0                | \n",
      "| 31                  | 0.989               | 0.034               | 0.959               | 0.145               | 12.4                | \n",
      "| 32                  | 0.989               | 0.032               | 0.951               | 0.186               | 12.9                | \n",
      "| 33                  | 0.989               | 0.032               | 0.955               | 0.152               | 13.3                | \n",
      "| 34                  | 0.990               | 0.031               | 0.938               | 0.231               | 13.7                | \n",
      "| 35                  | 0.991               | 0.029               | 0.956               | 0.161               | 14.1                | \n",
      "| 36                  | 0.991               | 0.029               | 0.952               | 0.187               | 14.5                | \n",
      "| 37                  | 0.990               | 0.036               | 0.949               | 0.182               | 14.9                | \n",
      "| 38                  | 0.989               | 0.034               | 0.949               | 0.183               | 15.3                | \n",
      "| 39                  | 0.989               | 0.029               | 0.952               | 0.170               | 15.7                | \n",
      "| 40                  | 0.990               | 0.034               | 0.948               | 0.220               | 16.1                | \n",
      "| 41                  | 0.989               | 0.032               | 0.952               | 0.168               | 16.4                | \n",
      "| 42                  | 0.989               | 0.034               | 0.951               | 0.187               | 16.8                | \n",
      "| 43                  | 0.992               | 0.026               | 0.948               | 0.187               | 17.2                | \n",
      "| 44                  | 0.992               | 0.025               | 0.954               | 0.189               | 17.6                | \n",
      "| 45                  | 0.992               | 0.022               | 0.940               | 0.218               | 18.0                | \n",
      "| 46                  | 0.992               | 0.024               | 0.956               | 0.166               | 18.4                | \n",
      "| 47                  | 0.993               | 0.021               | 0.924               | 0.312               | 18.8                | \n",
      "| 48                  | 0.993               | 0.020               | 0.959               | 0.178               | 19.2                | \n",
      "| 49                  | 0.992               | 0.024               | 0.938               | 0.245               | 19.6                | \n",
      "| 50                  | 0.992               | 0.023               | 0.956               | 0.191               | 20.0                | \n",
      "+---------------------+---------------------+---------------------+---------------------+---------------------+---------------------+\n",
      "Training complete\n",
      "Total Time Spent: 19.9956s\n"
     ]
    }
   ],
   "source": [
    "# Create an activity classifier\n",
    "model = tc.activity_classifier.create(\n",
    "    dataset=train_sf, session_id='sessionId', target='activity', \n",
    "    features=[\"rotX\", \"rotY\", \"rotZ\", \"accelX\", \"accelY\", \"accelZ\"],\n",
    "    prediction_window=20, validation_set=valid_sf, max_iterations=50)"
   ]
  },
  {
   "cell_type": "code",
   "execution_count": 7,
   "metadata": {},
   "outputs": [
    {
     "name": "stdout",
     "output_type": "stream",
     "text": [
      "Class                                    : ActivityClassifier\n",
      "\n",
      "Schema\n",
      "------\n",
      "Number of examples                       : 235057\n",
      "Number of sessions                       : 216\n",
      "Number of classes                        : 4\n",
      "Number of feature columns                : 6\n",
      "Prediction window                        : 20\n",
      "\n",
      "Training summary\n",
      "----------------\n",
      "Log-likelihood                           : 0.0233\n",
      "Training time (sec)                      : 22.3413\n",
      "\n"
     ]
    }
   ],
   "source": [
    "model.summary()"
   ]
  },
  {
   "cell_type": "markdown",
   "metadata": {},
   "source": [
    "## Evaluate trained model"
   ]
  },
  {
   "cell_type": "code",
   "execution_count": 8,
   "metadata": {},
   "outputs": [],
   "source": [
    "metrics = model.evaluate(test_sf)"
   ]
  },
  {
   "cell_type": "code",
   "execution_count": 9,
   "metadata": {},
   "outputs": [
    {
     "name": "stdout",
     "output_type": "stream",
     "text": [
      "Accuracy: 0.9803580391500752\n"
     ]
    }
   ],
   "source": [
    "print(f\"Accuracy: {metrics['accuracy']}\")"
   ]
  },
  {
   "cell_type": "code",
   "execution_count": 10,
   "metadata": {},
   "outputs": [
    {
     "name": "stdout",
     "output_type": "stream",
     "text": [
      "{'accuracy': 0.9803580391500752, 'auc': 0.9957451278739697, 'precision': 0.9834482819443717, 'recall': 0.9780750491436244, 'f1_score': 0.9806378890962846, 'log_loss': 0.12278276760932545, 'confusion_matrix': Columns:\n",
      "\ttarget_label\tstr\n",
      "\tpredicted_label\tstr\n",
      "\tcount\tint\n",
      "\n",
      "Rows: 11\n",
      "\n",
      "Data:\n",
      "+--------------+-----------------+-------+\n",
      "| target_label | predicted_label | count |\n",
      "+--------------+-----------------+-------+\n",
      "|   rest_it    |     shake_it    |   99  |\n",
      "|   drive_it   |     drive_it    |  5395 |\n",
      "|   shake_it   |     rest_it     |   62  |\n",
      "|   rest_it    |     drive_it    |   25  |\n",
      "|   chop_it    |     chop_it     |  5353 |\n",
      "|   drive_it   |     rest_it     |  232  |\n",
      "|   chop_it    |     rest_it     |   82  |\n",
      "|   chop_it    |     shake_it    |   40  |\n",
      "|   rest_it    |     rest_it     | 13149 |\n",
      "|   shake_it   |     shake_it    |  5401 |\n",
      "+--------------+-----------------+-------+\n",
      "[11 rows x 3 columns]\n",
      "Note: Only the head of the SFrame is printed.\n",
      "You can use print_rows(num_rows=m, num_columns=n) to print more rows and columns., 'roc_curve': Columns:\n",
      "\tthreshold\tfloat\n",
      "\tfpr\tfloat\n",
      "\ttpr\tfloat\n",
      "\tp\tint\n",
      "\tn\tint\n",
      "\tclass\tstr\n",
      "\n",
      "Rows: 400004\n",
      "\n",
      "Data:\n",
      "+-----------+----------------------+--------------------+------+-------+---------+\n",
      "| threshold |         fpr          |        tpr         |  p   |   n   |  class  |\n",
      "+-----------+----------------------+--------------------+------+-------+---------+\n",
      "|    0.0    |         1.0          |        1.0         | 5475 | 24410 | chop_it |\n",
      "|   1e-05   | 0.11437935272429332  | 0.9965296803652968 | 5475 | 24410 | chop_it |\n",
      "|   2e-05   | 0.05284719377304384  | 0.9954337899543378 | 5475 | 24410 | chop_it |\n",
      "|   3e-05   | 0.043015157722244984 | 0.9954337899543378 | 5475 | 24410 | chop_it |\n",
      "|   4e-05   |  0.0340024580090127  | 0.9954337899543378 | 5475 | 24410 | chop_it |\n",
      "|   5e-05   | 0.03080704629250307  | 0.9950684931506849 | 5475 | 24410 | chop_it |\n",
      "|   6e-05   | 0.02040147480540762  | 0.993972602739726  | 5475 | 24410 | chop_it |\n",
      "|   7e-05   | 0.01220811142974191  | 0.993972602739726  | 5475 | 24410 | chop_it |\n",
      "|   8e-05   | 0.008930766079475625 | 0.993972602739726  | 5475 | 24410 | chop_it |\n",
      "|   9e-05   | 0.007292093404342483 | 0.993972602739726  | 5475 | 24410 | chop_it |\n",
      "+-----------+----------------------+--------------------+------+-------+---------+\n",
      "[400004 rows x 6 columns]\n",
      "Note: Only the head of the SFrame is printed.\n",
      "You can use print_rows(num_rows=m, num_columns=n) to print more rows and columns.}\n"
     ]
    }
   ],
   "source": [
    "print(metrics)"
   ]
  },
  {
   "cell_type": "code",
   "execution_count": 11,
   "metadata": {},
   "outputs": [
    {
     "name": "stdout",
     "output_type": "stream",
     "text": [
      "+--------------+-----------------+-------+\n",
      "| target_label | predicted_label | count |\n",
      "+--------------+-----------------+-------+\n",
      "|   rest_it    |     shake_it    |   99  |\n",
      "|   drive_it   |     drive_it    |  5395 |\n",
      "|   shake_it   |     rest_it     |   62  |\n",
      "|   rest_it    |     drive_it    |   25  |\n",
      "|   chop_it    |     chop_it     |  5353 |\n",
      "|   drive_it   |     rest_it     |  232  |\n",
      "|   chop_it    |     rest_it     |   82  |\n",
      "|   chop_it    |     shake_it    |   40  |\n",
      "|   rest_it    |     rest_it     | 13149 |\n",
      "|   shake_it   |     shake_it    |  5401 |\n",
      "|   rest_it    |     chop_it     |   47  |\n",
      "+--------------+-----------------+-------+\n",
      "[11 rows x 3 columns]\n",
      "\n"
     ]
    }
   ],
   "source": [
    "metrics['confusion_matrix'].print_rows(num_rows=11)"
   ]
  },
  {
   "cell_type": "markdown",
   "metadata": {},
   "source": [
    "## Save the trained model\n",
    "\n",
    "Export the model to Core ML and save a copy you can reload here if you want to do anything else with it (e.g. test it on a different dataset)"
   ]
  },
  {
   "cell_type": "code",
   "execution_count": 12,
   "metadata": {},
   "outputs": [],
   "source": [
    "model.export_coreml(\"GestureClassifier.mlmodel\")\n",
    "model.save(\"GestureClassifier\")"
   ]
  },
  {
   "cell_type": "code",
   "execution_count": null,
   "metadata": {},
   "outputs": [],
   "source": []
  }
 ],
 "metadata": {
  "kernelspec": {
   "display_name": "Python 3",
   "language": "python",
   "name": "python3"
  },
  "language_info": {
   "codemirror_mode": {
    "name": "ipython",
    "version": 3
   },
   "file_extension": ".py",
   "mimetype": "text/x-python",
   "name": "python",
   "nbconvert_exporter": "python",
   "pygments_lexer": "ipython3",
   "version": "3.7.9"
  }
 },
 "nbformat": 4,
 "nbformat_minor": 2
}
