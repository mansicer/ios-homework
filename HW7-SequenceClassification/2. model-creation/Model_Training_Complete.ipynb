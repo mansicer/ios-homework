{
 "cells": [
  {
   "cell_type": "markdown",
   "metadata": {},
   "source": [
    "# Training an activity classifier\n",
    "\n",
    "This notebook was used to train the activity classification model **GestureClassifier.mlmodel** supplied with the book Machine Learning by Tutorials."
   ]
  },
  {
   "cell_type": "code",
   "execution_count": 1,
   "metadata": {},
   "outputs": [
    {
     "data": {
      "text/plain": [
       "'\\n/// Copyright (c) 2018 Razeware LLC\\n/// \\n/// Permission is hereby granted, free of charge, to any person obtaining a copy\\n/// of this software and associated documentation files (the \"Software\"), to deal\\n/// in the Software without restriction, including without limitation the rights\\n/// to use, copy, modify, merge, publish, distribute, sublicense, and/or sell\\n/// copies of the Software, and to permit persons to whom the Software is\\n/// furnished to do so, subject to the following conditions:\\n/// \\n/// The above copyright notice and this permission notice shall be included in\\n/// all copies or substantial portions of the Software.\\n/// \\n/// Notwithstanding the foregoing, you may not use, copy, modify, merge, publish,\\n/// distribute, sublicense, create a derivative work, and/or sell copies of the\\n/// Software in any work that is designed, intended, or marketed for pedagogical or\\n/// instructional purposes related to programming, coding, application development,\\n/// or information technology.  Permission for such use, copying, modification,\\n/// merger, publication, distribution, sublicensing, creation of derivative works,\\n/// or sale is expressly withheld.\\n/// \\n/// THE SOFTWARE IS PROVIDED \"AS IS\", WITHOUT WARRANTY OF ANY KIND, EXPRESS OR\\n/// IMPLIED, INCLUDING BUT NOT LIMITED TO THE WARRANTIES OF MERCHANTABILITY,\\n/// FITNESS FOR A PARTICULAR PURPOSE AND NONINFRINGEMENT. IN NO EVENT SHALL THE\\n/// AUTHORS OR COPYRIGHT HOLDERS BE LIABLE FOR ANY CLAIM, DAMAGES OR OTHER\\n/// LIABILITY, WHETHER IN AN ACTION OF CONTRACT, TORT OR OTHERWISE, ARISING FROM,\\n/// OUT OF OR IN CONNECTION WITH THE SOFTWARE OR THE USE OR OTHER DEALINGS IN\\n/// THE SOFTWARE.\\n'"
      ]
     },
     "execution_count": 1,
     "metadata": {},
     "output_type": "execute_result"
    }
   ],
   "source": [
    "'''\n",
    "/// Copyright (c) 2018 Razeware LLC\n",
    "/// \n",
    "/// Permission is hereby granted, free of charge, to any person obtaining a copy\n",
    "/// of this software and associated documentation files (the \"Software\"), to deal\n",
    "/// in the Software without restriction, including without limitation the rights\n",
    "/// to use, copy, modify, merge, publish, distribute, sublicense, and/or sell\n",
    "/// copies of the Software, and to permit persons to whom the Software is\n",
    "/// furnished to do so, subject to the following conditions:\n",
    "/// \n",
    "/// The above copyright notice and this permission notice shall be included in\n",
    "/// all copies or substantial portions of the Software.\n",
    "/// \n",
    "/// Notwithstanding the foregoing, you may not use, copy, modify, merge, publish,\n",
    "/// distribute, sublicense, create a derivative work, and/or sell copies of the\n",
    "/// Software in any work that is designed, intended, or marketed for pedagogical or\n",
    "/// instructional purposes related to programming, coding, application development,\n",
    "/// or information technology.  Permission for such use, copying, modification,\n",
    "/// merger, publication, distribution, sublicensing, creation of derivative works,\n",
    "/// or sale is expressly withheld.\n",
    "/// \n",
    "/// THE SOFTWARE IS PROVIDED \"AS IS\", WITHOUT WARRANTY OF ANY KIND, EXPRESS OR\n",
    "/// IMPLIED, INCLUDING BUT NOT LIMITED TO THE WARRANTIES OF MERCHANTABILITY,\n",
    "/// FITNESS FOR A PARTICULAR PURPOSE AND NONINFRINGEMENT. IN NO EVENT SHALL THE\n",
    "/// AUTHORS OR COPYRIGHT HOLDERS BE LIABLE FOR ANY CLAIM, DAMAGES OR OTHER\n",
    "/// LIABILITY, WHETHER IN AN ACTION OF CONTRACT, TORT OR OTHERWISE, ARISING FROM,\n",
    "/// OUT OF OR IN CONNECTION WITH THE SOFTWARE OR THE USE OR OTHER DEALINGS IN\n",
    "/// THE SOFTWARE.\n",
    "'''"
   ]
  },
  {
   "cell_type": "code",
   "execution_count": 2,
   "metadata": {},
   "outputs": [],
   "source": [
    "import turicreate as tc\n",
    "import activity_detector_utils as utils"
   ]
  },
  {
   "cell_type": "markdown",
   "metadata": {},
   "source": [
    "# Load clean datasets"
   ]
  },
  {
   "cell_type": "code",
   "execution_count": 4,
   "metadata": {},
   "outputs": [],
   "source": [
    "train_sf = tc.SFrame(\"data/cleaned_train_sframe\")\n",
    "valid_sf = tc.SFrame(\"data/cleaned_valid_sframe\")\n",
    "test_sf = tc.SFrame(\"data/cleaned_test_sframe\")"
   ]
  },
  {
   "cell_type": "markdown",
   "metadata": {},
   "source": [
    "### Optional: Split a validation set from your training set\n",
    "\n",
    "This step is **not** necessary because we already have a separate validation set. This project does not use the results of the following cell, but it's here as an example to show you how to do it *if* you ever want to in your own projects."
   ]
  },
  {
   "cell_type": "code",
   "execution_count": 5,
   "metadata": {},
   "outputs": [],
   "source": [
    "train, valid = tc.activity_classifier.util.random_split_by_session(train_sf, session_id='sessionId', fraction=0.9)"
   ]
  },
  {
   "cell_type": "code",
   "execution_count": 6,
   "metadata": {},
   "outputs": [
    {
     "name": "stdout",
     "output_type": "stream",
     "text": [
      "+----------+--------+-------+\n",
      "| activity | userId | Count |\n",
      "+----------+--------+-------+\n",
      "| chop_it  |  u_01  |   29  |\n",
      "| chop_it  |  u_02  |   33  |\n",
      "| drive_it |  u_01  |   34  |\n",
      "| drive_it |  u_02  |   33  |\n",
      "| rest_it  |  u_01  |   95  |\n",
      "| rest_it  |  u_02  |  100  |\n",
      "| shake_it |  u_01  |   32  |\n",
      "| shake_it |  u_02  |   34  |\n",
      "+----------+--------+-------+\n",
      "[8 rows x 3 columns]\n",
      "\n",
      "+----------+--------+-------+\n",
      "| activity | userId | Count |\n",
      "+----------+--------+-------+\n",
      "| chop_it  |  u_01  |   7   |\n",
      "| chop_it  |  u_02  |   3   |\n",
      "| drive_it |  u_01  |   2   |\n",
      "| drive_it |  u_02  |   3   |\n",
      "| rest_it  |  u_01  |   13  |\n",
      "| rest_it  |  u_02  |   8   |\n",
      "| shake_it |  u_01  |   4   |\n",
      "| shake_it |  u_02  |   2   |\n",
      "+----------+--------+-------+\n",
      "[8 rows x 3 columns]\n",
      "\n"
     ]
    }
   ],
   "source": [
    "utils.count_activities(train)\n",
    "utils.count_activities(valid)"
   ]
  },
  {
   "cell_type": "markdown",
   "metadata": {},
   "source": [
    "# Verify your model correctness by overfitting\n",
    "\n",
    "This step is to ensure the dataset and model are applicable to the problem, and the model is implemented properly. The following cell grabs a random 5% of the training data and trains an activity classifier model with it to ensure it learns successfully. You can see the training accuracy is quite high – at times 100% – which is a good indication that the model should be able to learn from your dataset."
   ]
  },
  {
   "cell_type": "code",
   "execution_count": 7,
   "metadata": {},
   "outputs": [
    {
     "name": "stdout",
     "output_type": "stream",
     "text": [
      "The dataset has less than the minimum of 100 sessions required for train-validation split. Continuing without validation set\n"
     ]
    },
    {
     "data": {
      "text/html": [
       "<pre>Pre-processing 13114 samples...</pre>"
      ],
      "text/plain": [
       "Pre-processing 13114 samples..."
      ]
     },
     "metadata": {},
     "output_type": "display_data"
    },
    {
     "data": {
      "text/html": [
       "<pre>Using sequences of size 400 for model creation.</pre>"
      ],
      "text/plain": [
       "Using sequences of size 400 for model creation."
      ]
     },
     "metadata": {},
     "output_type": "display_data"
    },
    {
     "data": {
      "text/html": [
       "<pre>Processed a total of 11 sessions.</pre>"
      ],
      "text/plain": [
       "Processed a total of 11 sessions."
      ]
     },
     "metadata": {},
     "output_type": "display_data"
    },
    {
     "name": "stdout",
     "output_type": "stream",
     "text": [
      "Using GPU to create model (AMD Radeon HD - FirePro D700)\n",
      "+----------------+----------------+----------------+----------------+\n",
      "| Iteration      | Train Accuracy | Train Loss     | Elapsed Time   |\n",
      "+----------------+----------------+----------------+----------------+\n",
      "| 1              | 0.232          | 1.272          | 5.7            |\n",
      "| 2              | 0.746          | 0.831          | 5.8            |\n",
      "| 3              | 0.762          | 0.743          | 5.8            |\n",
      "| 4              | 0.805          | 0.673          | 5.9            |\n",
      "| 5              | 0.859          | 0.576          | 5.9            |\n",
      "| 6              | 0.846          | 0.512          | 6.0            |\n",
      "| 7              | 0.903          | 0.428          | 6.0            |\n",
      "| 8              | 0.911          | 0.356          | 6.1            |\n",
      "| 9              | 0.913          | 0.283          | 6.1            |\n",
      "| 10             | 0.920          | 0.268          | 6.2            |\n",
      "| 11             | 0.949          | 0.240          | 6.2            |\n",
      "| 12             | 0.940          | 0.226          | 6.3            |\n",
      "| 13             | 0.945          | 0.205          | 6.3            |\n",
      "| 14             | 0.952          | 0.188          | 6.4            |\n",
      "| 15             | 0.955          | 0.206          | 6.4            |\n",
      "| 16             | 0.959          | 0.160          | 6.4            |\n",
      "| 17             | 0.982          | 0.124          | 6.5            |\n",
      "| 18             | 0.969          | 0.139          | 6.5            |\n",
      "| 19             | 0.979          | 0.113          | 6.6            |\n",
      "| 20             | 0.981          | 0.094          | 6.6            |\n",
      "| 21             | 0.977          | 0.103          | 6.7            |\n",
      "| 22             | 0.981          | 0.100          | 6.7            |\n",
      "| 23             | 0.981          | 0.089          | 6.8            |\n",
      "| 24             | 0.977          | 0.094          | 6.8            |\n",
      "| 25             | 0.992          | 0.079          | 6.9            |\n",
      "| 26             | 0.983          | 0.083          | 6.9            |\n",
      "| 27             | 0.987          | 0.065          | 7.0            |\n",
      "| 28             | 0.979          | 0.081          | 7.0            |\n",
      "| 29             | 0.977          | 0.078          | 7.1            |\n",
      "| 30             | 0.994          | 0.055          | 7.1            |\n",
      "| 31             | 0.989          | 0.063          | 7.2            |\n",
      "| 32             | 0.989          | 0.054          | 7.2            |\n",
      "| 33             | 0.992          | 0.050          | 7.3            |\n",
      "| 34             | 0.995          | 0.043          | 7.3            |\n",
      "| 35             | 0.994          | 0.047          | 7.4            |\n",
      "| 36             | 0.990          | 0.049          | 7.4            |\n",
      "| 37             | 0.995          | 0.037          | 7.5            |\n",
      "| 38             | 0.995          | 0.035          | 7.5            |\n",
      "| 39             | 0.993          | 0.039          | 7.5            |\n",
      "| 40             | 0.990          | 0.039          | 7.6            |\n",
      "| 41             | 0.996          | 0.034          | 7.6            |\n",
      "| 42             | 0.993          | 0.034          | 7.7            |\n",
      "| 43             | 0.995          | 0.030          | 7.7            |\n",
      "| 44             | 0.991          | 0.041          | 7.8            |\n",
      "| 45             | 0.992          | 0.036          | 7.8            |\n",
      "| 46             | 0.993          | 0.035          | 7.9            |\n",
      "| 47             | 0.995          | 0.029          | 7.9            |\n",
      "| 48             | 0.993          | 0.030          | 8.0            |\n",
      "| 49             | 0.990          | 0.033          | 8.0            |\n",
      "| 50             | 0.993          | 0.030          | 8.1            |\n",
      "+----------------+----------------+----------------+----------------+\n",
      "Training complete\n",
      "Total Time Spent: 8.06785s\n"
     ]
    },
    {
     "data": {
      "text/plain": [
       "Class                                    : ActivityClassifier\n",
       "\n",
       "Schema\n",
       "------\n",
       "Number of examples                       : 13114\n",
       "Number of sessions                       : 11\n",
       "Number of classes                        : 4\n",
       "Number of feature columns                : 6\n",
       "Prediction window                        : 20\n",
       "\n",
       "Training summary\n",
       "----------------\n",
       "Log-likelihood                           : 0.0296\n",
       "Training time (sec)                      : 8.4815"
      ]
     },
     "execution_count": 7,
     "metadata": {},
     "output_type": "execute_result"
    }
   ],
   "source": [
    "tiny_train, _ = tc.activity_classifier.util.random_split_by_session(train_sf, session_id='sessionId', fraction=0.05)\n",
    "\n",
    "tc.activity_classifier.create(\n",
    "    dataset=tiny_train, session_id='sessionId', target='activity', \n",
    "    features=[\"rotX\", \"rotY\", \"rotZ\", \"accelX\", \"accelY\", \"accelZ\"],\n",
    "    prediction_window=20, max_iterations=50)"
   ]
  },
  {
   "cell_type": "markdown",
   "metadata": {},
   "source": [
    "# Train the model"
   ]
  },
  {
   "cell_type": "markdown",
   "metadata": {},
   "source": [
    "You'll get different results every time you run this training cell, because there's some randomness built into the training process. You may get slightly better or worse results, but they should be pretty close to these."
   ]
  },
  {
   "cell_type": "code",
   "execution_count": 8,
   "metadata": {
    "scrolled": false
   },
   "outputs": [
    {
     "data": {
      "text/html": [
       "<pre>Pre-processing 235057 samples...</pre>"
      ],
      "text/plain": [
       "Pre-processing 235057 samples..."
      ]
     },
     "metadata": {},
     "output_type": "display_data"
    },
    {
     "data": {
      "text/html": [
       "<pre>Using sequences of size 400 for model creation.</pre>"
      ],
      "text/plain": [
       "Using sequences of size 400 for model creation."
      ]
     },
     "metadata": {},
     "output_type": "display_data"
    },
    {
     "data": {
      "text/html": [
       "<pre>Processed a total of 216 sessions.</pre>"
      ],
      "text/plain": [
       "Processed a total of 216 sessions."
      ]
     },
     "metadata": {},
     "output_type": "display_data"
    },
    {
     "name": "stdout",
     "output_type": "stream",
     "text": [
      "Using GPU to create model (AMD Radeon HD - FirePro D700)\n",
      "+---------------------+---------------------+---------------------+---------------------+---------------------+---------------------+\n",
      "| Iteration           | Train Accuracy      | Train Loss          | Validation Accuracy | Validation Loss     | Elapsed Time        |\n",
      "+---------------------+---------------------+---------------------+---------------------+---------------------+---------------------+\n",
      "| 1                   | 0.590               | 0.939               | 0.721               | 0.958               | 0.4                 | \n",
      "| 2                   | 0.838               | 0.480               | 0.942               | 0.351               | 0.9                 | \n",
      "| 3                   | 0.914               | 0.316               | 0.954               | 0.148               | 1.3                 | \n",
      "| 4                   | 0.941               | 0.237               | 0.960               | 0.125               | 1.8                 | \n",
      "| 5                   | 0.952               | 0.188               | 0.958               | 0.119               | 2.2                 | \n",
      "| 6                   | 0.960               | 0.161               | 0.959               | 0.123               | 2.6                 | \n",
      "| 7                   | 0.964               | 0.136               | 0.954               | 0.133               | 3.1                 | \n",
      "| 8                   | 0.969               | 0.126               | 0.953               | 0.145               | 3.5                 | \n",
      "| 9                   | 0.967               | 0.120               | 0.960               | 0.120               | 4.0                 | \n",
      "| 10                  | 0.973               | 0.111               | 0.954               | 0.147               | 4.4                 | \n",
      "| 11                  | 0.970               | 0.103               | 0.948               | 0.127               | 4.8                 | \n",
      "| 12                  | 0.975               | 0.096               | 0.949               | 0.160               | 5.3                 | \n",
      "| 13                  | 0.972               | 0.096               | 0.950               | 0.130               | 5.7                 | \n",
      "| 14                  | 0.973               | 0.094               | 0.938               | 0.207               | 6.2                 | \n",
      "| 15                  | 0.972               | 0.090               | 0.956               | 0.115               | 6.6                 | \n",
      "| 16                  | 0.978               | 0.080               | 0.947               | 0.156               | 7.0                 | \n",
      "| 17                  | 0.976               | 0.075               | 0.952               | 0.134               | 7.5                 | \n",
      "| 18                  | 0.980               | 0.065               | 0.945               | 0.150               | 7.9                 | \n",
      "| 19                  | 0.983               | 0.057               | 0.948               | 0.150               | 8.4                 | \n",
      "| 20                  | 0.983               | 0.057               | 0.934               | 0.188               | 8.9                 | \n",
      "| 21                  | 0.985               | 0.052               | 0.944               | 0.163               | 9.3                 | \n",
      "| 22                  | 0.986               | 0.049               | 0.938               | 0.198               | 9.8                 | \n",
      "| 23                  | 0.985               | 0.051               | 0.936               | 0.201               | 10.3                | \n",
      "| 24                  | 0.987               | 0.048               | 0.948               | 0.158               | 10.7                | \n",
      "| 25                  | 0.986               | 0.044               | 0.926               | 0.255               | 11.2                | \n",
      "| 26                  | 0.987               | 0.044               | 0.946               | 0.160               | 11.7                | \n",
      "| 27                  | 0.987               | 0.043               | 0.943               | 0.179               | 12.1                | \n",
      "| 28                  | 0.987               | 0.041               | 0.936               | 0.224               | 12.5                | \n",
      "| 29                  | 0.989               | 0.039               | 0.910               | 0.268               | 13.0                | \n",
      "| 30                  | 0.986               | 0.044               | 0.946               | 0.166               | 13.5                | \n",
      "| 31                  | 0.988               | 0.043               | 0.942               | 0.205               | 13.9                | \n",
      "| 32                  | 0.989               | 0.037               | 0.932               | 0.235               | 14.4                | \n",
      "| 33                  | 0.988               | 0.035               | 0.932               | 0.215               | 14.9                | \n",
      "| 34                  | 0.988               | 0.036               | 0.944               | 0.219               | 15.3                | \n",
      "| 35                  | 0.987               | 0.036               | 0.941               | 0.195               | 15.8                | \n",
      "| 36                  | 0.987               | 0.044               | 0.941               | 0.186               | 16.2                | \n",
      "| 37                  | 0.988               | 0.038               | 0.920               | 0.300               | 16.7                | \n",
      "| 38                  | 0.988               | 0.038               | 0.937               | 0.244               | 17.1                | \n",
      "| 39                  | 0.984               | 0.044               | 0.946               | 0.166               | 17.5                | \n",
      "| 40                  | 0.982               | 0.055               | 0.946               | 0.181               | 18.0                | \n",
      "| 41                  | 0.988               | 0.037               | 0.935               | 0.234               | 18.5                | \n",
      "| 42                  | 0.989               | 0.034               | 0.950               | 0.155               | 18.9                | \n",
      "| 43                  | 0.990               | 0.029               | 0.940               | 0.221               | 19.4                | \n",
      "| 44                  | 0.991               | 0.030               | 0.942               | 0.195               | 19.8                | \n",
      "| 45                  | 0.990               | 0.029               | 0.937               | 0.204               | 20.3                | \n",
      "| 46                  | 0.990               | 0.032               | 0.951               | 0.185               | 20.7                | \n",
      "| 47                  | 0.992               | 0.023               | 0.925               | 0.273               | 21.1                | \n",
      "| 48                  | 0.992               | 0.026               | 0.946               | 0.188               | 21.6                | \n",
      "| 49                  | 0.992               | 0.023               | 0.922               | 0.284               | 22.0                | \n",
      "| 50                  | 0.991               | 0.025               | 0.931               | 0.266               | 22.5                | \n",
      "+---------------------+---------------------+---------------------+---------------------+---------------------+---------------------+\n",
      "Training complete\n",
      "Total Time Spent: 22.4884s\n"
     ]
    }
   ],
   "source": [
    "# Create an activity classifier\n",
    "model = tc.activity_classifier.create(\n",
    "    dataset=train_sf, session_id='sessionId', target='activity', \n",
    "    features=[\"rotX\", \"rotY\", \"rotZ\", \"accelX\", \"accelY\", \"accelZ\"],\n",
    "    prediction_window=20, validation_set=valid_sf, max_iterations=50)"
   ]
  },
  {
   "cell_type": "code",
   "execution_count": 9,
   "metadata": {},
   "outputs": [
    {
     "name": "stdout",
     "output_type": "stream",
     "text": [
      "Class                                    : ActivityClassifier\n",
      "\n",
      "Schema\n",
      "------\n",
      "Number of examples                       : 235057\n",
      "Number of sessions                       : 216\n",
      "Number of classes                        : 4\n",
      "Number of feature columns                : 6\n",
      "Prediction window                        : 20\n",
      "\n",
      "Training summary\n",
      "----------------\n",
      "Log-likelihood                           : 0.0252\n",
      "Training time (sec)                      : 23.7814\n",
      "\n"
     ]
    }
   ],
   "source": [
    "model.summary()"
   ]
  },
  {
   "cell_type": "markdown",
   "metadata": {},
   "source": [
    "## Evaluate trained model"
   ]
  },
  {
   "cell_type": "code",
   "execution_count": 10,
   "metadata": {},
   "outputs": [],
   "source": [
    "metrics = model.evaluate(test_sf)"
   ]
  },
  {
   "cell_type": "code",
   "execution_count": 11,
   "metadata": {},
   "outputs": [
    {
     "name": "stdout",
     "output_type": "stream",
     "text": [
      "Accuracy: 0.9748703362891082\n"
     ]
    }
   ],
   "source": [
    "print(f\"Accuracy: {metrics['accuracy']}\")"
   ]
  },
  {
   "cell_type": "code",
   "execution_count": 12,
   "metadata": {},
   "outputs": [
    {
     "name": "stdout",
     "output_type": "stream",
     "text": [
      "{'accuracy': 0.9748703362891082, 'auc': 0.9969528472683438, 'precision': 0.9784590236279842, 'recall': 0.9695791541946717, 'f1_score': 0.9737156348967198, 'log_loss': 0.11922604903345482, 'confusion_matrix': Columns:\n",
      "\ttarget_label\tstr\n",
      "\tpredicted_label\tstr\n",
      "\tcount\tint\n",
      "\n",
      "Rows: 11\n",
      "\n",
      "Data:\n",
      "+--------------+-----------------+-------+\n",
      "| target_label | predicted_label | count |\n",
      "+--------------+-----------------+-------+\n",
      "|   shake_it   |     rest_it     |  108  |\n",
      "|   rest_it    |     drive_it    |   17  |\n",
      "|   drive_it   |     drive_it    |  5423 |\n",
      "|   chop_it    |     shake_it    |  156  |\n",
      "|   rest_it    |     rest_it     | 13185 |\n",
      "|   chop_it    |     rest_it     |  148  |\n",
      "|   rest_it    |     chop_it     |   29  |\n",
      "|   shake_it   |     shake_it    |  5355 |\n",
      "|   drive_it   |     rest_it     |  204  |\n",
      "|   chop_it    |     chop_it     |  5171 |\n",
      "+--------------+-----------------+-------+\n",
      "[11 rows x 3 columns]\n",
      "Note: Only the head of the SFrame is printed.\n",
      "You can use print_rows(num_rows=m, num_columns=n) to print more rows and columns., 'roc_curve': Columns:\n",
      "\tthreshold\tfloat\n",
      "\tfpr\tfloat\n",
      "\ttpr\tfloat\n",
      "\tp\tint\n",
      "\tn\tint\n",
      "\tclass\tstr\n",
      "\n",
      "Rows: 400004\n",
      "\n",
      "Data:\n",
      "+-----------+----------------------+--------------------+------+-------+---------+\n",
      "| threshold |         fpr          |        tpr         |  p   |   n   |  class  |\n",
      "+-----------+----------------------+--------------------+------+-------+---------+\n",
      "|    0.0    |         1.0          |        1.0         | 5475 | 24410 | chop_it |\n",
      "|   1e-05   | 0.28430970913560016  | 0.9987214611872146 | 5475 | 24410 | chop_it |\n",
      "|   2e-05   | 0.18725931995083983  | 0.9976255707762557 | 5475 | 24410 | chop_it |\n",
      "|   3e-05   | 0.15276526013928718  | 0.9950684931506849 | 5475 | 24410 | chop_it |\n",
      "|   4e-05   | 0.11421548545678001  | 0.9950684931506849 | 5475 | 24410 | chop_it |\n",
      "|   5e-05   | 0.09373207701761573  | 0.9950684931506849 | 5475 | 24410 | chop_it |\n",
      "|   6e-05   | 0.07668988119623105  | 0.9950684931506849 | 5475 | 24410 | chop_it |\n",
      "|   7e-05   | 0.057025809094633347 | 0.9950684931506849 | 5475 | 24410 | chop_it |\n",
      "|   8e-05   | 0.046702171241294554 | 0.9950684931506849 | 5475 | 24410 | chop_it |\n",
      "|   9e-05   |  0.0368701351904957  | 0.9950684931506849 | 5475 | 24410 | chop_it |\n",
      "+-----------+----------------------+--------------------+------+-------+---------+\n",
      "[400004 rows x 6 columns]\n",
      "Note: Only the head of the SFrame is printed.\n",
      "You can use print_rows(num_rows=m, num_columns=n) to print more rows and columns.}\n"
     ]
    }
   ],
   "source": [
    "print(metrics)"
   ]
  },
  {
   "cell_type": "code",
   "execution_count": 13,
   "metadata": {},
   "outputs": [
    {
     "name": "stdout",
     "output_type": "stream",
     "text": [
      "+--------------+-----------------+-------+\n",
      "| target_label | predicted_label | count |\n",
      "+--------------+-----------------+-------+\n",
      "|   shake_it   |     rest_it     |  108  |\n",
      "|   rest_it    |     drive_it    |   17  |\n",
      "|   drive_it   |     drive_it    |  5423 |\n",
      "|   chop_it    |     shake_it    |  156  |\n",
      "|   rest_it    |     rest_it     | 13185 |\n",
      "|   chop_it    |     rest_it     |  148  |\n",
      "|   rest_it    |     chop_it     |   29  |\n",
      "|   shake_it   |     shake_it    |  5355 |\n",
      "|   drive_it   |     rest_it     |  204  |\n",
      "|   chop_it    |     chop_it     |  5171 |\n",
      "|   rest_it    |     shake_it    |   89  |\n",
      "+--------------+-----------------+-------+\n",
      "[11 rows x 3 columns]\n",
      "\n"
     ]
    }
   ],
   "source": [
    "metrics['confusion_matrix'].print_rows(num_rows=11)"
   ]
  },
  {
   "cell_type": "markdown",
   "metadata": {},
   "source": [
    "## Save the trained model\n",
    "\n",
    "Export the model to Core ML and save a copy you can reload here if you want to do anything else with it (e.g. test it on a different dataset)"
   ]
  },
  {
   "cell_type": "code",
   "execution_count": 14,
   "metadata": {},
   "outputs": [],
   "source": [
    "model.export_coreml(\"GestureClassifier.mlmodel\")\n",
    "model.save(\"GestureClassifier\")"
   ]
  },
  {
   "cell_type": "code",
   "execution_count": null,
   "metadata": {},
   "outputs": [],
   "source": []
  }
 ],
 "metadata": {
  "kernelspec": {
   "display_name": "Python 3",
   "language": "python",
   "name": "python3"
  },
  "language_info": {
   "codemirror_mode": {
    "name": "ipython",
    "version": 3
   },
   "file_extension": ".py",
   "mimetype": "text/x-python",
   "name": "python",
   "nbconvert_exporter": "python",
   "pygments_lexer": "ipython3",
   "version": "3.7.9"
  }
 },
 "nbformat": 4,
 "nbformat_minor": 2
}
